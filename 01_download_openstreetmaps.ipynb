{
 "cells": [
  {
   "cell_type": "code",
   "execution_count": 5,
   "metadata": {},
   "outputs": [],
   "source": [
    "def puntos_cuautla(df, limites):\n",
    "    df = df[(df.Latitud<cuautla_coor[0]) & (df.Latitud>cuautla_coor[1]) & \n",
    "            (df.Longitud>cuautla_coor[2]) & (df.Longitud<cuautla_coor[3])]\n",
    "    return df"
   ]
  },
  {
   "cell_type": "code",
   "execution_count": null,
   "metadata": {},
   "outputs": [],
   "source": [
    "def "
   ]
  },
  {
   "cell_type": "code",
   "execution_count": 1,
   "metadata": {},
   "outputs": [],
   "source": [
    "import numpy as np\n",
    "import pandas as pd\n",
    "import geopandas\n",
    "import matplotlib.pyplot as plt"
   ]
  },
  {
   "cell_type": "code",
   "execution_count": 56,
   "metadata": {},
   "outputs": [],
   "source": [
    "import descartes "
   ]
  },
  {
   "cell_type": "code",
   "execution_count": 7,
   "metadata": {},
   "outputs": [],
   "source": [
    "cuautla_coor = [19, 18.60, -99.0, -98.9]"
   ]
  },
  {
   "cell_type": "code",
   "execution_count": 64,
   "metadata": {},
   "outputs": [
    {
     "data": {
      "text/html": [
       "<div>\n",
       "<style scoped>\n",
       "    .dataframe tbody tr th:only-of-type {\n",
       "        vertical-align: middle;\n",
       "    }\n",
       "\n",
       "    .dataframe tbody tr th {\n",
       "        vertical-align: top;\n",
       "    }\n",
       "\n",
       "    .dataframe thead th {\n",
       "        text-align: right;\n",
       "    }\n",
       "</style>\n",
       "<table border=\"1\" class=\"dataframe\">\n",
       "  <thead>\n",
       "    <tr style=\"text-align: right;\">\n",
       "      <th></th>\n",
       "      <th>ID</th>\n",
       "      <th>code</th>\n",
       "      <th>Nombre</th>\n",
       "      <th>Longitud</th>\n",
       "      <th>Latitud</th>\n",
       "      <th>Categoria</th>\n",
       "      <th>Descripcion</th>\n",
       "    </tr>\n",
       "  </thead>\n",
       "  <tbody>\n",
       "    <tr>\n",
       "      <th>273</th>\n",
       "      <td>418995208</td>\n",
       "      <td>2601</td>\n",
       "      <td>BANAMEX</td>\n",
       "      <td>-98.937685</td>\n",
       "      <td>18.847457</td>\n",
       "      <td>bank</td>\n",
       "      <td>A bank</td>\n",
       "    </tr>\n",
       "    <tr>\n",
       "      <th>2660</th>\n",
       "      <td>4472166190</td>\n",
       "      <td>2601</td>\n",
       "      <td>BBVA Bancomer</td>\n",
       "      <td>-98.953355</td>\n",
       "      <td>18.816585</td>\n",
       "      <td>bank</td>\n",
       "      <td>A bank</td>\n",
       "    </tr>\n",
       "    <tr>\n",
       "      <th>2718</th>\n",
       "      <td>4541837740</td>\n",
       "      <td>2601</td>\n",
       "      <td>Banamex Sucursal Manantiales</td>\n",
       "      <td>-98.947202</td>\n",
       "      <td>18.832359</td>\n",
       "      <td>bank</td>\n",
       "      <td>A bank</td>\n",
       "    </tr>\n",
       "    <tr>\n",
       "      <th>2719</th>\n",
       "      <td>4541837741</td>\n",
       "      <td>2601</td>\n",
       "      <td>Bancomer Sucursal Manantiales</td>\n",
       "      <td>-98.947373</td>\n",
       "      <td>18.832474</td>\n",
       "      <td>bank</td>\n",
       "      <td>A bank</td>\n",
       "    </tr>\n",
       "    <tr>\n",
       "      <th>2720</th>\n",
       "      <td>4541837743</td>\n",
       "      <td>2601</td>\n",
       "      <td>Santander</td>\n",
       "      <td>-98.944109</td>\n",
       "      <td>18.831808</td>\n",
       "      <td>bank</td>\n",
       "      <td>A bank</td>\n",
       "    </tr>\n",
       "    <tr>\n",
       "      <th>2721</th>\n",
       "      <td>4541837744</td>\n",
       "      <td>2601</td>\n",
       "      <td>Banorte</td>\n",
       "      <td>-98.942796</td>\n",
       "      <td>18.835390</td>\n",
       "      <td>bank</td>\n",
       "      <td>A bank</td>\n",
       "    </tr>\n",
       "    <tr>\n",
       "      <th>3139</th>\n",
       "      <td>4940711005</td>\n",
       "      <td>2601</td>\n",
       "      <td>Cajero Automatico Banorte</td>\n",
       "      <td>-98.949058</td>\n",
       "      <td>18.830498</td>\n",
       "      <td>bank</td>\n",
       "      <td>A bank</td>\n",
       "    </tr>\n",
       "  </tbody>\n",
       "</table>\n",
       "</div>"
      ],
      "text/plain": [
       "              ID  code                         Nombre   Longitud    Latitud  \\\n",
       "273    418995208  2601                        BANAMEX -98.937685  18.847457   \n",
       "2660  4472166190  2601                  BBVA Bancomer -98.953355  18.816585   \n",
       "2718  4541837740  2601   Banamex Sucursal Manantiales -98.947202  18.832359   \n",
       "2719  4541837741  2601  Bancomer Sucursal Manantiales -98.947373  18.832474   \n",
       "2720  4541837743  2601                      Santander -98.944109  18.831808   \n",
       "2721  4541837744  2601                        Banorte -98.942796  18.835390   \n",
       "3139  4940711005  2601      Cajero Automatico Banorte -98.949058  18.830498   \n",
       "\n",
       "     Categoria Descripcion  \n",
       "273       bank      A bank  \n",
       "2660      bank      A bank  \n",
       "2718      bank      A bank  \n",
       "2719      bank      A bank  \n",
       "2720      bank      A bank  \n",
       "2721      bank      A bank  \n",
       "3139      bank      A bank  "
      ]
     },
     "execution_count": 64,
     "metadata": {},
     "output_type": "execute_result"
    }
   ],
   "source": [
    "puntos_interes = [\"Abarrotes\", \"Bancos\", \"Escuelas\", \"Hospitales\",]"
   ]
  },
  {
   "cell_type": "code",
   "execution_count": 25,
   "metadata": {},
   "outputs": [
    {
     "data": {
      "text/plain": [
       "<matplotlib.axes._subplots.AxesSubplot at 0x212d97ff0c8>"
      ]
     },
     "execution_count": 25,
     "metadata": {},
     "output_type": "execute_result"
    },
    {
     "data": {
      "image/png": "[encoded data removed]",
      "text/plain": [
       "<Figure size 432x288 with 1 Axes>"
      ]
     },
     "metadata": {
      "needs_background": "light"
     },
     "output_type": "display_data"
    }
   ],
   "source": [
    "abarrotes.plot.scatter(x=\"Longitud\", y=\"Latitud\")"
   ]
  },
  {
   "cell_type": "code",
   "execution_count": 11,
   "metadata": {},
   "outputs": [],
   "source": [
    "abarrotes= pd.read_csv(\"data/Bancos.csv\", index_col=False)\n",
    "abarrotes.drop(\"Unnamed: 0\", axis=1, inplace=True)"
   ]
  },
  {
   "cell_type": "code",
   "execution_count": 12,
   "metadata": {},
   "outputs": [
    {
     "data": {
      "text/plain": [
       "<matplotlib.axes._subplots.AxesSubplot at 0x212cdf818c8>"
      ]
     },
     "execution_count": 12,
     "metadata": {},
     "output_type": "execute_result"
    },
    {
     "data": {
      "image/png": "[encoded data removed]",
      "text/plain": [
       "<Figure size 432x288 with 1 Axes>"
      ]
     },
     "metadata": {
      "needs_background": "light"
     },
     "output_type": "display_data"
    }
   ],
   "source": [
    "abarrotes.plot.scatter(x=\"Longitud\", y=\"Latitud\")"
   ]
  },
  {
   "cell_type": "markdown",
   "metadata": {},
   "source": [
    "### AGEB de Cuautla"
   ]
  },
  {
   "cell_type": "code",
   "execution_count": 10,
   "metadata": {},
   "outputs": [],
   "source": [
    "ageb_cuautla = pd.read_csv(\"data/inegi_scince16_manzanas_centroides.csv\")"
   ]
  },
  {
   "cell_type": "code",
   "execution_count": 11,
   "metadata": {},
   "outputs": [],
   "source": [
    "ageb_cuautla.rename(columns={\"centroide_x\":\"Longitud\", \"centroide_y\": \"Latitud\"}, inplace=True)"
   ]
  },
  {
   "cell_type": "code",
   "execution_count": 15,
   "metadata": {},
   "outputs": [],
   "source": [
    "ageb_cuautla[\"estado_num\"] = ageb_cuautla[\"cvegeo\"].apply(lambda x: x[:2])"
   ]
  },
  {
   "cell_type": "code",
   "execution_count": 17,
   "metadata": {},
   "outputs": [],
   "source": [
    "ageb_cuautla = ageb_cuautla[ageb_cuautla.estado_num==\"17\"]"
   ]
  },
  {
   "cell_type": "code",
   "execution_count": 19,
   "metadata": {},
   "outputs": [],
   "source": [
    "ageb_cuautla.to_csv(\"data/ageb_morelos.csv\", index=False)"
   ]
  },
  {
   "cell_type": "code",
   "execution_count": null,
   "metadata": {},
   "outputs": [],
   "source": []
  }
 ],
 "metadata": {
  "kernelspec": {
   "display_name": "Python 3",
   "language": "python",
   "name": "python3"
  },
  "language_info": {
   "codemirror_mode": {
    "name": "ipython",
    "version": 3
   },
   "file_extension": ".py",
   "mimetype": "text/x-python",
   "name": "python",
   "nbconvert_exporter": "python",
   "pygments_lexer": "ipython3",
   "version": "3.7.6"
  }
 },
 "nbformat": 4,
 "nbformat_minor": 2
}
